{
 "cells": [
  {
   "cell_type": "markdown",
   "id": "46ab91c5",
   "metadata": {},
   "source": [
    "# Desafio 1: Classificador Básico no Iris Dataset"
   ]
  },
  {
   "cell_type": "markdown",
   "id": "75ea81de",
   "metadata": {},
   "source": [
    "## Bibliotecas Utilizadas"
   ]
  },
  {
   "cell_type": "code",
   "execution_count": null,
   "id": "668bf75b",
   "metadata": {},
   "outputs": [],
   "source": [
    "from sklearn import datasets\n",
    "import pandas as pd\n",
    "import matplotlib.pyplot as plt\n",
    "import seaborn as sb\n",
    "from sklearn.tree import DecisionTreeClassifier\n",
    "from sklearn.model_selection import train_test_split\n",
    "from sklearn.metrics import accuracy_score, confusion_matrix"
   ]
  },
  {
   "cell_type": "markdown",
   "id": "ae3df705",
   "metadata": {},
   "source": [
    "- SKLearn: Carregar o Iris Dataset, treinar e avaliar modelos.\n",
    "- Pandas: Resumir os dados do dataset.\n",
    "- Matplot: Plotar gráficos.\n",
    "- Seaborn: Plotar gráficos mais complexos."
   ]
  },
  {
   "cell_type": "markdown",
   "id": "f0a8fedf",
   "metadata": {},
   "source": [
    "## Carregando Dataset"
   ]
  },
  {
   "cell_type": "code",
   "execution_count": null,
   "id": "69166207",
   "metadata": {},
   "outputs": [],
   "source": [
    "# Carregando o Iris Dataset\n",
    "iris_ds = datasets.load_iris()\n",
    "\n",
    "# Carregando os dados do Dataset no Pandas\n",
    "ds = pd.DataFrame(iris_ds.data, columns=iris_ds.feature_names)\n",
    "ds['species'] = pd.Categorical.from_codes(iris_ds.target, iris_ds.target_names)"
   ]
  },
  {
   "cell_type": "markdown",
   "id": "c03fe7d1",
   "metadata": {},
   "source": [
    "> É necessário importar as espécies externamente, pois não é gerado por padrão no metódo load_iris()."
   ]
  },
  {
   "cell_type": "markdown",
   "id": "fb70c5de",
   "metadata": {},
   "source": [
    "## Estátistica Descritiva e Plotagem de Gráficos"
   ]
  },
  {
   "cell_type": "code",
   "execution_count": null,
   "id": "7a499491",
   "metadata": {},
   "outputs": [],
   "source": [
    "# Resumo do Dataset com aproximação de 2 casas decimais\n",
    "print(ds.describe().round(2))\n",
    "\n",
    "# Histograma da frequência do tamanho das petalas\n",
    "histogram = ds['petal length (cm)'].plot.hist()\n",
    "plt.title(\"Distribuição do Comprimento das Pétalas\")\n",
    "plt.xlabel(\"Petal Length (cm)\")\n",
    "plt.show()\n",
    "\n",
    "# Gráfico de dispersão entre o comprimento da sepala e o comprimento das petalas\n",
    "dispersion = ds.plot.scatter(x='petal length (cm)', y='sepal length (cm)')\n",
    "plt.title(\"Dispersão Entre o Comprimento das Pétalas e Sépalas\")\n",
    "plt.xlabel('Petal Length (cm)')\n",
    "plt.ylabel('Sepal Length (cm)')\n",
    "plt.show()\n",
    "\n",
    "# Gráfico de dispersão entre todos os dados\n",
    "sb.pairplot(ds, hue='species')\n",
    "plt.show()"
   ]
  },
  {
   "cell_type": "markdown",
   "id": "37a98077",
   "metadata": {},
   "source": [
    "## Treino e Teste"
   ]
  },
  {
   "cell_type": "markdown",
   "id": "68ed87cf",
   "metadata": {},
   "source": [
    "### Distribuir os Dados"
   ]
  },
  {
   "cell_type": "code",
   "execution_count": null,
   "id": "1a254973",
   "metadata": {},
   "outputs": [],
   "source": [
    "# Definindo a distruibuição dos dados\n",
    "X = ds.drop('species', axis=1)\n",
    "y = ds['species']\n",
    "\n",
    "X_train, X_tests, y_train, y_tests = train_test_split(X, y, test_size=0.3, random_state=0)"
   ]
  },
  {
   "cell_type": "markdown",
   "id": "ff305006",
   "metadata": {},
   "source": [
    "- X é a váriavel que contém todas as características das flores de uma espécie.\n",
    "- y é a váriavel que contém as espécies.\n",
    "\n",
    "O objetivo é treinar um modelo capaz de classificar a espécie de acordo com as características da flor.\n",
    "\n",
    "- O metódo train_test_split() separa os dados para treinos e testes.\n",
    "    - O parâmetro test_size a porcentagem dos dados que irão ser utilizados para testes - como solicitado, 30% dos dados foram utilizados para testes e 70% para treinar o modelo. \n",
    "    - O parâmetro random_state é um ponto fixo de aleatoriedade, usado para garantir a consistências dos dados, sem precisar ficar preso na aleatoriedade.\n",
    "\n",
    "- X_train e y_train serão os dados utilizados para treinar o modelo.\n",
    "- X_tests são os dados de flores que o modelo tentará identificar e y_tests são os resultados esperados."
   ]
  },
  {
   "cell_type": "markdown",
   "id": "6e14c980",
   "metadata": {},
   "source": [
    "### Treinar o Modelo"
   ]
  },
  {
   "cell_type": "code",
   "execution_count": null,
   "id": "952b6643",
   "metadata": {},
   "outputs": [],
   "source": [
    "# Treinando o modelo DecisionTreeClassfier\n",
    "model = DecisionTreeClassifier()\n",
    "model.fit(X=X_train, y=y_train)"
   ]
  },
  {
   "cell_type": "markdown",
   "id": "8fbd9aeb",
   "metadata": {},
   "source": [
    "- Selecionando o modelo específico do DecisionTreeClassifier e utilizando o metódo fit() para treinar o modelo."
   ]
  },
  {
   "cell_type": "markdown",
   "id": "0382b2fd",
   "metadata": {},
   "source": [
    "### Testar o Modelo"
   ]
  },
  {
   "cell_type": "code",
   "execution_count": null,
   "id": "0aa328e1",
   "metadata": {},
   "outputs": [],
   "source": [
    "# Testando o modelo\n",
    "y_predict = model.predict(X=X_tests)"
   ]
  },
  {
   "cell_type": "markdown",
   "id": "30e6ec7c",
   "metadata": {},
   "source": [
    "- Utililando o metódo predict() para obter os resultados dos testes, guardamos esses resultados em uma váriavel para avaliar o modelo."
   ]
  },
  {
   "cell_type": "markdown",
   "id": "91ecfe69",
   "metadata": {},
   "source": [
    "## Avaliar o Modelo"
   ]
  },
  {
   "cell_type": "markdown",
   "id": "2e8c8f76",
   "metadata": {},
   "source": [
    "- Como solicitado, o metódo de avaliação do modelo será medindo a sua acurácia e matriz de confusão. Para isso já temos metódos disponíveis na biblioteca do SKLearn."
   ]
  },
  {
   "cell_type": "code",
   "execution_count": null,
   "id": "afe81774",
   "metadata": {},
   "outputs": [],
   "source": [
    "# Medindo a precisão do modelo\n",
    "accuracy = accuracy_score(y_true=y_tests, y_pred=y_predict)\n",
    "conf_matrix = confusion_matrix(y_true=y_tests, y_pred=y_predict)\n",
    "\n",
    "print(f\"{100 * accuracy:.2f}%\")\n",
    "print(conf_matrix)"
   ]
  },
  {
   "cell_type": "markdown",
   "id": "baf4f5ce",
   "metadata": {},
   "source": [
    "- y_true é o parâmetro que recebe os resultados esperados, que foi nomeado como y_tests durante a execução do metódo train_test_split().\n",
    "- y_pred é o parâmetro que recebe os resultados que foram obtidos durante os testes."
   ]
  }
 ],
 "metadata": {
  "kernelspec": {
   "display_name": ".venv",
   "language": "python",
   "name": "python3"
  },
  "language_info": {
   "name": "python",
   "version": "3.13.3"
  }
 },
 "nbformat": 4,
 "nbformat_minor": 5
}
